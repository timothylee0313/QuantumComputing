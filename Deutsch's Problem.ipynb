{
 "cells": [
  {
   "cell_type": "markdown",
   "metadata": {},
   "source": [
    "# Deutsch's Problem\n",
    "\n",
    "이번 글에서는 Quantum Computing이 Classical Computing에 비해 유리한 **Deutsch's Problem**에 대해 설명하겠다.  \n",
    "\n",
    "1 또는 0 비트 정보를 입력하면 1 또는 0의 결과를 출력하는 함수가 있다고 하자.  \n",
    "다음의 4가지 함수를 생각해 볼 수 있을 것이다.  \n",
    "\n",
    "\n",
    "&nbsp;&nbsp;&nbsp;&nbsp;f(x) = 0         ...(1)  \n",
    "&nbsp;&nbsp;&nbsp;&nbsp;f(x) = 1         ...(2)  \n",
    "&nbsp;&nbsp;&nbsp;&nbsp;f(x) = x         ...(3)  \n",
    "&nbsp;&nbsp;&nbsp;&nbsp;f(x) = $\\bar{x}$ ...(4) \n",
    "\n",
    "(1), (2)는 입력값에 상관 없이 0 또는 1이 출력되는 **constant function**이고,  \n",
    "(3), (4)는 입력값에 따라 입력값을 그대로, 또는 입력값의 NOT값을 출력하는 **balanced function**이다.\n",
    "\n",
    "우리는 어떤 함수로 계산되는지 모르는 채로 입력값을 넣고 출력값을 받는다고 생각해보자.  \n",
    "또, 이 함수의 연산 과정이 24시간 걸린다고 가정하자.  \n",
    "\n",
    "우리는 이 함수가 **constant function**인지, **balanced function**인지 알아맞추고자 한다.\n",
    "\n",
    "Classical Computing에서는 몇 시간이 필요할까?  \n",
    "총 48 시간이 필요할 것이다. 예를 들어, 0을 입력하고 0이 나왔을 때, (1) 또는 (3) 함수 일 것이고, 또 1을 입력해서 0 또는 1이 나오는 지 확인해야 할 것이다.  \n",
    "우리는 **constant function**인지 **balanced function**인지만 궁금했지만, 어쩔 수 없이 함수 자체를 찾은 것이다.\n",
    "\n",
    "Quantum Computing으로는 24시간, 즉 한 번의 input으로 두 함수 유형을 구분할 수 있다.  \n",
    "아래는 Deutsch's Problem을 재현한 코드다."
   ]
  },
  {
   "cell_type": "code",
   "execution_count": 1,
   "metadata": {},
   "outputs": [],
   "source": [
    "import numpy as np\n",
    "import qiskit as q\n",
    "\n",
    "secret_number = np.random.randint(1,5) # Random number from 1 to 4."
   ]
  },
  {
   "cell_type": "code",
   "execution_count": 2,
   "metadata": {},
   "outputs": [
    {
     "data": {
      "text/plain": [
       "<qiskit.circuit.instructionset.InstructionSet at 0x7fad8284ec90>"
      ]
     },
     "execution_count": 2,
     "metadata": {},
     "output_type": "execute_result"
    }
   ],
   "source": [
    "circ = q.QuantumCircuit(2,1)\n",
    "\n",
    "circ.h(0) # Haddamard gate on 1st qubit.\n",
    "circ.x(1) # Since qubit is initialized as |0>.\n",
    "circ.h(1) # Haddamard gate on 2nd qubit.\n",
    "\n",
    "if secret_number == 1:\n",
    "    pass # Do nothing.\n",
    "elif secret_number == 2:\n",
    "    circ.x(1) # NOT gate on 2nd qubit.\n",
    "elif secret_number == 3:\n",
    "    circ.cx(0,1) # CNOT gate on 2nd qubit, based on 1st qubit.\n",
    "else:\n",
    "    circ.x(0) # NOT gate on 1st qubit.\n",
    "    circ.cx(0,1) # CNOT gate on 2nd qubit, based on 1st qubit.\n",
    "    circ.x(0) # NOT gate on 1st qubit.\n",
    "    \n",
    "circ.h(0)\n",
    "circ.measure(0,0) # We only need to measure the 1st qubit."
   ]
  },
  {
   "cell_type": "code",
   "execution_count": 3,
   "metadata": {},
   "outputs": [
    {
     "name": "stdout",
     "output_type": "stream",
     "text": [
      "{'1': 1024}\n",
      "1st qubit result: 1, Black Box had balanced function!\n"
     ]
    }
   ],
   "source": [
    "backend = q.Aer.get_backend('qasm_simulator') # Run on 'qasm_simulator' backend.\n",
    "result = q.execute(circ, backend, shots=1024).result() # 1024 shots.\n",
    "\n",
    "counts = result.get_counts(circ)\n",
    "print(counts)\n",
    "for measured in counts: # Since we are running the process on simulator, perfect results are given.\n",
    "    if not int(measured): print(\"1st qubit result: \" + measured + \", Black Box had constant function!\")\n",
    "    else: print(\"1st qubit result: \" + measured + \", Black Box had balanced function!\")"
   ]
  },
  {
   "cell_type": "code",
   "execution_count": 4,
   "metadata": {},
   "outputs": [
    {
     "name": "stdout",
     "output_type": "stream",
     "text": [
      "The secret number was: 3\n"
     ]
    },
    {
     "data": {
      "text/html": [
       "<pre style=\"word-wrap: normal;white-space: pre;background: #fff0;line-height: 1.1;font-family: &quot;Courier New&quot;,Courier,monospace\">        ┌───┐          ┌───┐┌─┐\n",
       "q_0: |0>┤ H ├───────■──┤ H ├┤M├\n",
       "        ├───┤┌───┐┌─┴─┐└───┘└╥┘\n",
       "q_1: |0>┤ X ├┤ H ├┤ X ├──────╫─\n",
       "        └───┘└───┘└───┘      ║ \n",
       " c_0: 0 ═════════════════════╩═\n",
       "                               </pre>"
      ],
      "text/plain": [
       "<qiskit.visualization.text.TextDrawing at 0x7fad70592650>"
      ]
     },
     "execution_count": 4,
     "metadata": {},
     "output_type": "execute_result"
    }
   ],
   "source": [
    "# This is for final checking.\n",
    "print(\"The secret number was: \" + str(secret_number))\n",
    "circ.draw()"
   ]
  },
  {
   "cell_type": "markdown",
   "metadata": {},
   "source": [
    "즉, 우리는 1st qubit을 measure함으로써, black box의 함수 유형을 확인할 수 있게 된다."
   ]
  },
  {
   "cell_type": "markdown",
   "metadata": {},
   "source": [
    "### 추가 설명.\n",
    "$$\\newcommand{\\ket}[1]{\\left|{#1}\\right\\rangle}$$Quantum Oracle은 함수 f에 대해 다음과 같이 정의된다.\n",
    "$$U_{f}\\ket{x}\\ket{y} = \\ket{x}\\ket{y\\oplus f(x)}$$\n",
    "따라서,\n",
    "1. f(x) = 0\n",
    "$$U_{f}\\ket{x}\\ket{y} = \\ket{x}\\ket{y\\oplus 0} = \\ket{x}\\ket{y}$$\n",
    "$$U_{f} = I$$\n",
    "2. f(x) = 1\n",
    "$$U_{f}\\ket{x}\\ket{y} = \\ket{x}\\ket{y\\oplus1} = I\\otimes X\\ket{x}\\ket{y}$$\n",
    "$$U_{f} = I\\otimes X$$\n",
    "3. f(x) = x\n",
    "$$\\ket{00} = \\ket{00}$$\n",
    "$$\\ket{01} = \\ket{01}$$\n",
    "$$\\ket{10} = \\ket{11}$$\n",
    "$$\\ket{11} = \\ket{10}$$\n",
    "이므로, $U_{f} = \\begin{pmatrix}\n",
    "1 & 0 & 0 & 0 \\\\\n",
    "0 & 1 & 0 & 0 \\\\\n",
    "0 & 0 & 0 & 1 \\\\\n",
    "0 & 0 & 1 & 0\n",
    "\\end{pmatrix}$\n",
    "4. f(x) = $\\bar{x}$\n",
    "$$\\ket{00} = \\ket{01}$$\n",
    "$$\\ket{01} = \\ket{00}$$\n",
    "$$\\ket{10} = \\ket{10}$$\n",
    "$$\\ket{11} = \\ket{10}$$\n",
    "이므로, $U_{f} = \\begin{pmatrix}\n",
    "0 & 1 & 0 & 0 \\\\\n",
    "1 & 0 & 0 & 0 \\\\\n",
    "0 & 0 & 1 & 0 \\\\\n",
    "0 & 0 & 0 & 1\n",
    "\\end{pmatrix}$"
   ]
  },
  {
   "cell_type": "markdown",
   "metadata": {},
   "source": [
    "Deutschs algorithm은 다음과 같이 전개된다.\n",
    "$$\\ket{01}\\;\\underrightarrow{H_{2}}\\;\\frac{1}{2}(\\ket{0} + \\ket{1})(\\ket{0}-\\ket{1})$$\n",
    "$$=\\frac{1}{2}\\ket{0}(\\ket{0}-\\ket{1}) + \\frac{1}{2}\\ket{1}(\\ket{0}-\\ket{1})$$\n",
    "$$\\underrightarrow{U_{f}}\\;\\frac{1}{2}(-1)^{f(0)}\\ket{0}(\\ket{0}-\\ket{1}) + \\frac{1}{2}(-1)^{f(1)}\\ket{1}(\\ket{0}-\\ket{1})$$\n",
    "$$=\\frac{1}{2}((-1)^{f(0)}\\ket{0} + (-1)^{f(1)}\\ket{1})(\\ket{0}-\\ket{1})$$\n"
   ]
  },
  {
   "cell_type": "markdown",
   "metadata": {},
   "source": [
    "만약 f가 constant function이면, 첫번째 qubit은 $$\\pm\\frac{1}{\\sqrt{2}}(\\ket{0}+\\ket{1}) = \\pm H(\\ket{0})$$\n",
    "f가 balanced function이면, 첫번째 qubit은 $$\\pm\\frac{1}{\\sqrt{2}}(\\ket{0}-\\ket{1}) = \\pm H(\\ket{1})$$\n",
    "일 것이다."
   ]
  },
  {
   "cell_type": "code",
   "execution_count": null,
   "metadata": {},
   "outputs": [],
   "source": []
  }
 ],
 "metadata": {
  "@webio": {
   "lastCommId": null,
   "lastKernelId": null
  },
  "kernelspec": {
   "display_name": "Python 3",
   "language": "python",
   "name": "python3"
  },
  "language_info": {
   "codemirror_mode": {
    "name": "ipython",
    "version": 3
   },
   "file_extension": ".py",
   "mimetype": "text/x-python",
   "name": "python",
   "nbconvert_exporter": "python",
   "pygments_lexer": "ipython3",
   "version": "3.7.5"
  }
 },
 "nbformat": 4,
 "nbformat_minor": 2
}
